{
 "cells": [
  {
   "cell_type": "code",
   "execution_count": 1,
   "metadata": {
    "collapsed": true
   },
   "outputs": [],
   "source": [
    "import pandas as pd\n",
    "from bs4 import BeautifulSoup\n",
    "import pprint"
   ]
  },
  {
   "cell_type": "code",
   "execution_count": 188,
   "metadata": {
    "collapsed": false
   },
   "outputs": [],
   "source": [
    "f1 = open('west-ham-arsenal-example.txt','r')\n",
    "file_contents1 = f1.read()\n",
    "soup = BeautifulSoup(file_contents1,'lxml')"
   ]
  },
  {
   "cell_type": "code",
   "execution_count": null,
   "metadata": {
    "collapsed": true
   },
   "outputs": [],
   "source": [
    ""
   ]
  },
  {
   "cell_type": "code",
   "execution_count": 189,
   "metadata": {
    "collapsed": false
   },
   "outputs": [
    {
     "data": {
      "text/plain": [
       "'\\n47%\\tBall possession\\t53%\\n14\\tGoal attempts\\t15\\n3\\tShots on goal\\t4\\n6\\tShots off goal\\t5\\n5\\tBlocked Shots\\t6\\n8\\tFree kicks\\t13\\n8\\tCorner kicks\\t6\\n2\\tOffsides\\t3\\n23\\tThrow ins\\t22\\n2\\tGoalkeeper saves\\t3\\n14\\tFouls\\t8\\n0\\tYellow cards\\t2\\n \\n'"
      ]
     },
     "execution_count": 189,
     "metadata": {},
     "output_type": "execute_result"
    }
   ],
   "source": [
    "\"\"\"\n",
    "47%\tBall possession\t53%\n",
    "14\tGoal attempts\t15\n",
    "3\tShots on goal\t4\n",
    "6\tShots off goal\t5\n",
    "5\tBlocked Shots\t6\n",
    "8\tFree kicks\t13\n",
    "8\tCorner kicks\t6\n",
    "2\tOffsides\t3\n",
    "23\tThrow ins\t22\n",
    "2\tGoalkeeper saves\t3\n",
    "14\tFouls\t8\n",
    "0\tYellow cards\t2\n",
    " \n",
    "\"\"\""
   ]
  },
  {
   "cell_type": "code",
   "execution_count": 190,
   "metadata": {
    "collapsed": false
   },
   "outputs": [
    {
     "name": "stdout",
     "output_type": "stream",
     "text": [
      "West Ham Arsenal\n",
      "1 5\n",
      "L\n"
     ]
    }
   ],
   "source": [
    "home_team = soup.find('td',{'class':'tname-home logo-enable'}).text.strip()\n",
    "away_team = soup.find('td',{'class':'tname-away logo-enable'}).text.strip()\n",
    "\n",
    "score_div = soup.find('div',{'id':'content-all'})\n",
    "scores = score_div.find_all('span',{'class':'scoreboard'})\n",
    "home_goals = int(scores[0].text.strip())\n",
    "away_goals = int(scores[1].text.strip())\n",
    "\n",
    "if home_goals > away_goals:\n",
    "    result = 'W'\n",
    "elif home_goals == away_goals:\n",
    "    result = 'D'\n",
    "else: result = 'L'\n",
    "\n",
    "print home_team, away_team\n",
    "print home_goals, away_goals\n",
    "print result"
   ]
  },
  {
   "cell_type": "code",
   "execution_count": 191,
   "metadata": {
    "collapsed": false
   },
   "outputs": [
    {
     "name": "stdout",
     "output_type": "stream",
     "text": [
      "03.12.2016\n"
     ]
    }
   ],
   "source": [
    "game_date = soup.find('td',{'id':'utime'}).text.strip()[:10]\n",
    "print game_date"
   ]
  },
  {
   "cell_type": "code",
   "execution_count": 192,
   "metadata": {
    "collapsed": false
   },
   "outputs": [
    {
     "name": "stdout",
     "output_type": "stream",
     "text": [
      "referee: Pawson C. (Eng)\n",
      "attendance: 56980\n",
      "venue: Olympic Stadium (London)\n"
     ]
    }
   ],
   "source": [
    "match_info_trs = soup.find_all('tr',{'class':'content'})\n",
    "\n",
    "referee = None\n",
    "attendance = None\n",
    "venue = None\n",
    "\n",
    "for match_info in match_info_trs:\n",
    "    \n",
    "    \n",
    "    cur = match_info.text.strip()\n",
    "    if ('Referee' in cur):\n",
    "        ref_string = cur.split('Referee: ')\n",
    "        referee = ref_string[1]\n",
    "    if ('Attendance' in cur):\n",
    "        attendance_string = cur.split('Attendance: ')\n",
    "        attendance = attendance_string[1].strip()\n",
    "        attendance = attendance[:attendance.index(',')]\n",
    "        attendance = attendance.replace(' ','')\n",
    "    if ('Venue' in cur):\n",
    "        venue_string = cur.split('Venue: ')\n",
    "        venue = venue_string[1].strip()\n",
    "    \n",
    "print \"referee:\", referee\n",
    "print \"attendance:\", attendance\n",
    "print \"venue:\", venue"
   ]
  },
  {
   "cell_type": "code",
   "execution_count": 193,
   "metadata": {
    "collapsed": false
   },
   "outputs": [
    {
     "name": "stdout",
     "output_type": "stream",
     "text": [
      "[u'50%', u'50%', u'10', u'19', u'3', u'10', u'5', u'6', u'2', u'3', u'13', u'10', u'3', u'2', u'0', u'2', u'5', u'2', u'10', u'11', u'3', u'3']\n"
     ]
    }
   ],
   "source": [
    "whole_game_stats = soup.find('div',{'id':'tab-statistics-0-statistic'})\n",
    "whole_game_stats = whole_game_stats.findAll('div')\n",
    "\n",
    "#first_half_stats = soup.find('div',{'id':'tab-statistics-1-statistic'})\n",
    "#second_half_stats = soup.find('div',{'id':'tab-statistics-2-statistic'})\n",
    "\n",
    "stats = []\n",
    "for el in whole_game_stats:\n",
    "    text = el.text\n",
    "    if (len(text) > 0):\n",
    "        stats.append(text)\n",
    "\n",
    "print stats\n",
    "\n",
    "home_ball_possession = float(stats[0].strip('%')) / 100\n",
    "away_ball_possession = float(stats[1].strip('%')) / 100\n",
    "assert(home_ball_possession + away_ball_possession == 1.0)\n",
    "\n",
    "home_goal_attempts = int(stats[2])\n",
    "away_goal_attempts = int(stats[3])\n",
    "\n",
    "home_shots_on_goal = int(stats[4])\n",
    "away_shots_on_goal = int(stats[5])\n",
    "\n",
    "home_shots_off_goal = int(stats[6])\n",
    "away_shots_off_goal = int(stats[7])\n",
    "\n",
    "home_blocked_shots = int(stats[8])\n",
    "away_blocked_shots = int(stats[9])\n",
    "\n",
    "home_free_kicks = int(stats[10])\n",
    "away_free_kicks = int(stats[11])\n",
    "\n",
    "home_corner_kicks = int(stats[12])\n",
    "away_corner_kicks = int(stats[13])\n",
    "\n",
    "\n",
    "home_offsides  = int(stats[14])\n",
    "away_offsides  = int(stats[15])\n",
    "\n",
    "home_goalkeeper_saves  = int(stats[16])\n",
    "away_goalkeeper_saves  = int(stats[17])\n",
    "\n",
    "home_fouls  = int(stats[18]) \n",
    "away_fouls  = int(stats[19]) \n",
    "\n",
    "home_yellow_cards  = int(stats[20])\n",
    "away_yellow_cards  = int(stats[21])"
   ]
  },
  {
   "cell_type": "code",
   "execution_count": 194,
   "metadata": {
    "collapsed": false
   },
   "outputs": [
    {
     "name": "stdout",
     "output_type": "stream",
     "text": [
      "[(u'Arbeloa A.', u'Collins J.'), (u'Elneny M.', u'Coquelin F.'), (u'Ayew A.', u'Fernandes E.'), (u'Carroll A.', u'Noble M.'), (u'Iwobi A.', u'Ozil M.'), (u'Ramsey A.', u'Walcott T.')]\n",
      "[u'Arbeloa A.', u'Ayew A.', u'Carroll A.', u'Feghouli S.', u'Nordtveit H.', u'Adrian ', u'Zaza S.']\n",
      "[u'Elneny M.', u'Gibbs K.', u'Holding R.', u'Iwobi A.', u'Ospina D. ', u'Perez L.', u'Ramsey A.']\n"
     ]
    }
   ],
   "source": [
    "game_lineups = soup.find('div',{'id':'lineups-content'})\n",
    "game_lineups = game_lineups.findAll('td')\n",
    "\n",
    "#remove non_ascii and digits\n",
    "def remove_badchars(text):\n",
    "    return ''.join([i if (ord(i) < 128 and \n",
    "                          ((ord(i) < ord('0')) or (ord(i) > ord('9')))) \n",
    "                    else '' for i in text])\n",
    "\n",
    "\n",
    "\n",
    "home_formation = game_lineups[0].text\n",
    "away_formation = game_lineups[2].text\n",
    "\n",
    "home_players = []\n",
    "away_players = []\n",
    "\n",
    "for i in range(4,4+22):\n",
    "    player_name = remove_badchars(game_lineups[i].text)\n",
    "    if '(' in player_name:\n",
    "        player_name = player_name[:player_name.index('(')]\n",
    "    if (i % 2 == 0):\n",
    "        home_players.append(player_name)\n",
    "    else:\n",
    "        away_players.append(player_name)\n",
    "        \n",
    "i += 2\n",
    "home_substitutes = []\n",
    "away_substitutes = []\n",
    "\n",
    "# substitutions made will be a list of pairs (a:b) means a came off, and b came on.\n",
    "substitutions_made = []\n",
    "\n",
    "while (game_lineups[i].text != \"Missing Players\"):\n",
    "    sub = remove_badchars(game_lineups[i].text)\n",
    "    sub = sub.replace('(G)','')\n",
    "    sub = sub.replace('(C)','')\n",
    "    \n",
    "    actual_player = sub\n",
    "    if '(' in sub:\n",
    "        actual_player = sub[:sub.index('(')]\n",
    "        substitutions_made.append((actual_player,sub[sub.index('(')+1:-1]))\n",
    "        \n",
    "    if (i % 2 != 0):\n",
    "        home_substitutes.append(actual_player)\n",
    "    else:\n",
    "        away_substitutes.append(actual_player)\n",
    "    i+= 1\n",
    "\n",
    "\n",
    "\n",
    "\n",
    "        \n",
    "print substitutions_made\n",
    "        \n",
    "print home_substitutes\n",
    "print away_substitutes\n",
    "    \n",
    "# There is no need to collect info on missing players. Including our model the players that are present is enough.\n",
    "while (game_lineups[i].text != 'Coaches'):\n",
    "    i += 1\n",
    "\n",
    "assert(game_lineups[i].text == 'Coaches')\n",
    "i+= 1\n",
    "\n",
    "home_coach = remove_badchars(game_lineups[i].text)\n",
    "i+=1\n",
    "\n",
    "away_coach = remove_badchars(game_lineups[i].text)"
   ]
  },
  {
   "cell_type": "code",
   "execution_count": 195,
   "metadata": {
    "collapsed": true
   },
   "outputs": [],
   "source": [
    "f2 = open('west-ham-arsenal-players-example.txt','r')\n",
    "file_contents2 = f2.read()\n",
    "soup = BeautifulSoup(file_contents2,'lxml')"
   ]
  },
  {
   "cell_type": "code",
   "execution_count": 217,
   "metadata": {
    "collapsed": false
   },
   "outputs": [
    {
     "name": "stdout",
     "output_type": "stream",
     "text": [
      "yellow_cards : 0\n",
      "shots_on_goal : 0\n",
      "home_team : West Ham\n",
      "away_team : Arsenal\n",
      "name : Adrian\n",
      "fouls_committed : 0\n",
      "blocked_shots : 0\n",
      "pass_success : 0\n",
      "fouls_sufferred : 0\n",
      "goal_attempts : 0\n",
      "assists : 0\n",
      "goals : 0\n",
      "team : WES\n",
      "game_date : 03.12.2016\n",
      "total_passes : 0\n",
      "red_cards : 0\n",
      "offsides : 0\n",
      "\n",
      "yellow_cards : 0\n",
      "shots_on_goal : 0\n",
      "home_team : West Ham\n",
      "away_team : Arsenal\n",
      "name : Ayew A.\n",
      "fouls_committed : 1\n",
      "blocked_shots : 0\n",
      "pass_success : 72.7\n",
      "fouls_sufferred : 3\n",
      "goal_attempts : 2\n",
      "assists : 0\n",
      "goals : 0\n",
      "team : WES\n",
      "game_date : 03.12.2016\n",
      "total_passes : 11\n",
      "red_cards : 0\n",
      "offsides : 0\n",
      "\n",
      "yellow_cards : 0\n",
      "shots_on_goal : 0\n",
      "home_team : West Ham\n",
      "away_team : Arsenal\n",
      "name : Cech P.\n",
      "fouls_committed : 0\n",
      "blocked_shots : 0\n",
      "pass_success : 35\n",
      "fouls_sufferred : 0\n",
      "goal_attempts : 0\n",
      "assists : 0\n",
      "goals : 0\n",
      "team : ARS\n",
      "game_date : 03.12.2016\n",
      "total_passes : 20\n",
      "red_cards : 0\n",
      "offsides : 0\n",
      "\n"
     ]
    }
   ],
   "source": [
    "player_table = soup.find('div',{'id':'tab-player-statistics-0-statistic'})\n",
    "\n",
    "all_players = []\n",
    "odd_players = player_table.find_all('tr',{'class':'odd'})\n",
    "even_players = player_table.find_all('tr',{'class':'even'})\n",
    "\n",
    "\n",
    "\n",
    "# this info is obtained from each player's <td> in the html\n",
    "player_fields = ['name','team','goals','assists','goal_attempts','shots_on_goal','blocked_shots','offsides',\n",
    "             'fouls_committed','fouls_sufferred','yellow_cards','red_cards','pass_success','total_passes']\n",
    "\n",
    "# these are ALL of the fields that we are writing to the csv, which include player_fields but also include the match_date, and the two team names\n",
    "all_fields = ['home_team','away_team','game_date'] + player_fields\n",
    "for player in odd_players + even_players:\n",
    "    player_tds = player.find_all('td')\n",
    "    player_info = dict()\n",
    "    \n",
    "    player_info['home_team'] = home_team\n",
    "    player_info['away_team'] = away_team\n",
    "    player_info['game_date'] = game_date\n",
    "    \n",
    "    assert(len(player_tds) == 14)  \n",
    "    for i in range(0,len(player_tds)):\n",
    "        player_info[player_fields[i]] = '0' if player_tds[i].text == '-' else player_tds[i].text\n",
    "    \n",
    "    \n",
    "    all_players.append(player_info)\n",
    "\n",
    "\n",
    "\n",
    "# for player in all_players:\n",
    "#     for key in player:\n",
    "#         if (len(player[key]) > 5):\n",
    "#             print '{0: <12}'.format(player[key]),\n",
    "#         else:\n",
    "#             print '{0: <5}'.format(player[key]),\n",
    "#     print\n",
    "\n",
    "# for k in range(0,3):\n",
    "#     for key in all_players[k]:\n",
    "#         print key, \":\",all_players[k][key]\n",
    "#     print"
   ]
  },
  {
   "cell_type": "code",
   "execution_count": 197,
   "metadata": {
    "collapsed": false
   },
   "outputs": [
    {
     "data": {
      "text/plain": [
       "1"
      ]
     },
     "execution_count": 197,
     "metadata": {},
     "output_type": "execute_result"
    }
   ],
   "source": [
    "vars = locals()\n",
    "vars['home_goals']"
   ]
  },
  {
   "cell_type": "code",
   "execution_count": 203,
   "metadata": {
    "collapsed": false
   },
   "outputs": [
    {
     "name": "stdout",
     "output_type": "stream",
     "text": [
      "home_team , away_team , game_date , result , home_goals , away_goals , referee , attendance , venue , home_ball_possession , away_ball_possession , home_goal_attempts , away_goal_attempts , home_shots_on_goal , away_shots_on_goal , home_shots_off_goal , away_shots_off_goal , home_blocked_shots , away_blocked_shots , home_free_kicks , away_free_kicks , home_corner_kicks , away_corner_kicks , home_offsides , away_offsides , home_goalkeeper_saves , away_goalkeeper_saves , home_fouls , away_fouls , home_yellow_cards , away_yellow_cards , home_formation , away_formation , home_players , away_players , home_substitutes , away_substitutes , substitutions_made , home_coach , away_coach ,\n"
     ]
    }
   ],
   "source": [
    "fieldnames = [\n",
    "        #basic match info\n",
    "        'home_team','away_team','game_date','result',\n",
    "    \n",
    "        #match statistics\n",
    "        'home_goals','away_goals','referee','attendance','venue',\n",
    "        'home_ball_possession', 'away_ball_possession', 'home_goal_attempts', 'away_goal_attempts',\n",
    "        'home_shots_on_goal', 'away_shots_on_goal', 'home_shots_off_goal', 'away_shots_off_goal',\n",
    "        'home_blocked_shots', 'away_blocked_shots', 'home_free_kicks', 'away_free_kicks',\n",
    "        'home_corner_kicks', 'away_corner_kicks', 'home_offsides', 'away_offsides',\n",
    "        'home_goalkeeper_saves', 'away_goalkeeper_saves', 'home_fouls', 'away_fouls',\n",
    "        'home_yellow_cards', 'away_yellow_cards',\n",
    "        #lineups\n",
    "        'home_formation', 'away_formation', 'home_players', 'away_players', 'home_substitutes', 'away_substitutes', 'substitutions_made',\n",
    "        'home_coach', 'away_coach',\n",
    "\n",
    "        #player_info - this will be done in a separate csv\n",
    "        #'all_players'\n",
    "                  ]\n",
    "for field in fieldnames:\n",
    "    print field, ',',"
   ]
  },
  {
   "cell_type": "code",
   "execution_count": 199,
   "metadata": {
    "collapsed": false
   },
   "outputs": [],
   "source": [
    "import csv\n",
    "csvfile = open('tertertertertert.csv', 'wb')\n",
    "csv_writer = csv.writer(csvfile)\n",
    "csv_writer.writerow(fieldnames)\n",
    "csv_writer.writerow([home_team,away_team,game_date,result,home_goals , away_goals , referee , attendance , venue , home_ball_possession , away_ball_possession , home_goal_attempts , away_goal_attempts , home_shots_on_goal , away_shots_on_goal , home_shots_off_goal , away_shots_off_goal , home_blocked_shots , away_blocked_shots , home_free_kicks , away_free_kicks , home_corner_kicks , away_corner_kicks , home_offsides , away_offsides , home_goalkeeper_saves , away_goalkeeper_saves , home_fouls , away_fouls , home_yellow_cards , away_yellow_cards , home_formation , away_formation , home_players , away_players , home_substitutes , away_substitutes , substitutions_made, home_coach , away_coach])\n",
    "csvfile.close()"
   ]
  },
  {
   "cell_type": "code",
   "execution_count": 200,
   "metadata": {
    "collapsed": true
   },
   "outputs": [],
   "source": [
    ""
   ]
  },
  {
   "cell_type": "code",
   "execution_count": 201,
   "metadata": {
    "collapsed": true
   },
   "outputs": [],
   "source": [
    "df = pd.read_csv('tertertertertert.csv')"
   ]
  },
  {
   "cell_type": "code",
   "execution_count": null,
   "metadata": {
    "collapsed": false
   },
   "outputs": [],
   "source": [
    ""
   ]
  },
  {
   "cell_type": "code",
   "execution_count": null,
   "metadata": {
    "collapsed": true
   },
   "outputs": [],
   "source": [
    ""
   ]
  }
 ],
 "metadata": {
  "anaconda-cloud": {},
  "kernelspec": {
   "display_name": "Python [conda root]",
   "language": "python",
   "name": "conda-root-py"
  },
  "language_info": {
   "codemirror_mode": {
    "name": "ipython",
    "version": 2.0
   },
   "file_extension": ".py",
   "mimetype": "text/x-python",
   "name": "python",
   "nbconvert_exporter": "python",
   "pygments_lexer": "ipython2",
   "version": "2.7.12"
  }
 },
 "nbformat": 4,
 "nbformat_minor": 0
}