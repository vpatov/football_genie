{
 "cells": [
  {
   "cell_type": "code",
   "execution_count": 1,
   "metadata": {
    "collapsed": false
   },
   "outputs": [],
   "source": [
    "import pandas as pd\n",
    "import numpy as np\n",
    "import distance"
   ]
  },
  {
   "cell_type": "code",
   "execution_count": 3,
   "metadata": {
    "collapsed": true
   },
   "outputs": [],
   "source": [
    "matches_df = pd.concat([pd.read_csv(filepath_or_buffer='data/scoreboard_matches_'+ season + '.csv') for season in ['2013_2014','2014_2015','2015_2016','2016_2017']])\n",
    "players_df = pd.concat([pd.read_csv(filepath_or_buffer='data/scoreboard_players_'+ season + '.csv') for season in ['2013_2014','2014_2015','2015_2016','2016_2017']])"
   ]
  },
  {
   "cell_type": "markdown",
   "metadata": {},
   "source": [
    "## Find formation that wins most often (example stuff, can be discarded)\n",
    "See how formations affect the results. formations dict contains formations as keys, and has [games won, games played] values.\n",
    "Then, a win percentage is calculated. Next, it would be interesting to see what formation stacks best against what formation."
   ]
  },
  {
   "cell_type": "code",
   "execution_count": 43,
   "metadata": {
    "collapsed": false
   },
   "outputs": [
    {
     "name": "stdout",
     "output_type": "stream",
     "text": [
      "{'3 - 1 - 4 - 2': [5, 22],\n",
      " '3 - 2 - 3 - 1 - 1': [0, 1],\n",
      " '3 - 4 - 1 - 2': [11, 44],\n",
      " '3 - 4 - 2 - 1': [10, 26],\n",
      " '3 - 4 - 3': [18, 33],\n",
      " '3 - 5 - 1 - 1': [1, 5],\n",
      " '3 - 5 - 2': [8, 24],\n",
      " '4 - 1 - 2 - 1 - 2': [3, 7],\n",
      " '4 - 1 - 2 - 3': [1, 2],\n",
      " '4 - 1 - 3 - 2': [4, 15],\n",
      " '4 - 1 - 4 - 1': [51, 170],\n",
      " '4 - 2 - 3 - 1': [513, 1212],\n",
      " '4 - 3 - 1 - 2': [25, 64],\n",
      " '4 - 3 - 2 - 1': [1, 11],\n",
      " '4 - 3 - 3': [99, 303],\n",
      " '4 - 4 - 1 - 1': [71, 224],\n",
      " '4 - 4 - 2': [138, 357],\n",
      " '4 - 5 - 1': [5, 25],\n",
      " '5 - 3 - 2': [2, 10],\n",
      " '5 - 4 - 1': [1, 7]}\n",
      "4 - 2 - 3 - 1 : [513, 1212]\n",
      "3 - 4 - 3 : 0.545454545455\n"
     ]
    }
   ],
   "source": [
    "#assert that home teams and away teams have the same set of formations, so that we can use either set interchangeably.\n",
    "assert(matches_df.home_formation.unique().sort() == matches_df.away_formation.unique().sort())\n",
    "\n",
    "formations = {formation:[0,0] for formation in matches_df.home_formation.unique()}\n",
    "\n",
    "for match in matches_df.iterrows():\n",
    "    if match[1]['result'] == 'W':\n",
    "        formations[match[1]['home_formation']][0] += 1\n",
    "    if match[1]['result'] == 'L':\n",
    "        formations[match[1]['away_formation']][0] += 1\n",
    "    formations[match[1]['home_formation']][1] += 1\n",
    "    formations[match[1]['away_formation']][1] += 1\n",
    "        \n",
    "import pprint\n",
    "pprint.pprint(formations)\n",
    "\n",
    "max_key = max(formations.iterkeys(), key=(lambda key: formations[key]))\n",
    "print max_key, ':', formations[max_key]\n",
    "\n",
    "for form in formations:\n",
    "    formations[form] = formations[form][0] / float(formations[form][1])\n",
    "    \n",
    "formations\n",
    "max_key = max(formations.iterkeys(), key=(lambda key: formations[key]))\n",
    "print max_key, ':', formations[max_key]"
   ]
  },
  {
   "cell_type": "code",
   "execution_count": null,
   "metadata": {
    "collapsed": false
   },
   "outputs": [],
   "source": []
  },
  {
   "cell_type": "code",
   "execution_count": null,
   "metadata": {
    "collapsed": true
   },
   "outputs": [],
   "source": []
  }
 ],
 "metadata": {
  "anaconda-cloud": {},
  "kernelspec": {
   "display_name": "Python [conda root]",
   "language": "python",
   "name": "conda-root-py"
  },
  "language_info": {
   "codemirror_mode": {
    "name": "ipython",
    "version": 2
   },
   "file_extension": ".py",
   "mimetype": "text/x-python",
   "name": "python",
   "nbconvert_exporter": "python",
   "pygments_lexer": "ipython2",
   "version": "2.7.12"
  }
 },
 "nbformat": 4,
 "nbformat_minor": 1
}
